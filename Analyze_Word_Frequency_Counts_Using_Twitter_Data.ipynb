{
  "nbformat": 4,
  "nbformat_minor": 0,
  "metadata": {
    "colab": {
      "name": "Analyze Word Frequency Counts Using Twitter Data.ipynb",
      "provenance": [],
      "collapsed_sections": [],
      "authorship_tag": "ABX9TyP7lUPP15CAIKkP/VLNe0OX",
      "include_colab_link": true
    },
    "kernelspec": {
      "name": "python3",
      "display_name": "Python 3"
    },
    "language_info": {
      "name": "python"
    }
  },
  "cells": [
    {
      "cell_type": "markdown",
      "metadata": {
        "id": "view-in-github",
        "colab_type": "text"
      },
      "source": [
        "<a href=\"https://colab.research.google.com/github/SammarieoBrown/Natraul-Language-Processing/blob/main/Analyze_Word_Frequency_Counts_Using_Twitter_Data.ipynb\" target=\"_parent\"><img src=\"https://colab.research.google.com/assets/colab-badge.svg\" alt=\"Open In Colab\"/></a>"
      ]
    },
    {
      "cell_type": "code",
      "metadata": {
        "id": "NLx_MhaZGSaf"
      },
      "source": [
        "import os\n",
        "import pandas as pd\n",
        "import matplotlib.pyplot as plt\n",
        "import seaborn as sns\n",
        "import itertools\n",
        "import collections\n",
        "\n",
        "import tweepy as tw\n",
        "import nltk\n",
        "from nltk.corpus import stopwords\n",
        "import re\n",
        "import networkx\n",
        "\n",
        "import warnings\n",
        "warnings.filterwarnings(\"ignore\")\n",
        "\n",
        "sns.set(font_scale=1.5)\n",
        "sns.set_style(\"whitegrid\")"
      ],
      "execution_count": null,
      "outputs": []
    },
    {
      "cell_type": "code",
      "metadata": {
        "id": "laKZ9JVnMzoh"
      },
      "source": [
        "from google.colab import files\n",
        "upload = files.upload()"
      ],
      "execution_count": null,
      "outputs": []
    },
    {
      "cell_type": "code",
      "metadata": {
        "id": "KmHCCDJyNMm6"
      },
      "source": [
        "df = pd.read_csv(\"/content/Twitter-Auth (1).csv\")"
      ],
      "execution_count": null,
      "outputs": []
    },
    {
      "cell_type": "code",
      "metadata": {
        "id": "kpo0DVSRNb0z"
      },
      "source": [
        "df"
      ],
      "execution_count": null,
      "outputs": []
    },
    {
      "cell_type": "code",
      "metadata": {
        "id": "LPdG2z4YSXIq"
      },
      "source": [
        "df.columns"
      ],
      "execution_count": null,
      "outputs": []
    },
    {
      "cell_type": "code",
      "metadata": {
        "id": "E4D1-LIMSaim"
      },
      "source": [
        "df = df.rename(columns={\"Customer Key\\t\\t\\t\": \"Customer Key\",\n",
        "                        \"Customer Secret Key\": \"Customer Secret Key\",\n",
        "                        \"Access  Token \":\"Access Token\",\n",
        "                        \"Access Secret Token\":\"Access Secret Token\"})"
      ],
      "execution_count": null,
      "outputs": []
    },
    {
      "cell_type": "code",
      "metadata": {
        "id": "bYzu-XJgS5Yp"
      },
      "source": [
        "df"
      ],
      "execution_count": null,
      "outputs": []
    },
    {
      "cell_type": "code",
      "metadata": {
        "id": "cKaQgwZuGflG"
      },
      "source": [
        "consumer_key = df['Customer Key'][0]\n",
        "consumer_secret = df['Customer Secret Key'][0]\n",
        "access_token = df['Access Token'][0]\n",
        "access_token_secret = df['Access Secret Token'][0]\n",
        "\n"
      ],
      "execution_count": null,
      "outputs": []
    },
    {
      "cell_type": "code",
      "metadata": {
        "id": "gdhlOOIWSZgL"
      },
      "source": [
        ""
      ],
      "execution_count": null,
      "outputs": []
    },
    {
      "cell_type": "code",
      "metadata": {
        "id": "NZ92vzOEGlUh"
      },
      "source": [
        "auth = tw.OAuthHandler(consumer_key, consumer_secret)\n",
        "auth.set_access_token(access_token, access_token_secret)\n",
        "api = tw.API(auth, wait_on_rate_limit=True)"
      ],
      "execution_count": null,
      "outputs": []
    },
    {
      "cell_type": "code",
      "metadata": {
        "colab": {
          "base_uri": "https://localhost:8080/"
        },
        "id": "NRStK2XtGoM9",
        "outputId": "63929464-5599-4177-c4ee-a4d02862acd2"
      },
      "source": [
        "search_term = \"#skillibeng -filter:retweets\"\n",
        "\n",
        "tweets = tw.Cursor(api.search,\n",
        "                   q=search_term,\n",
        "                   lang=\"en\",\n",
        "                   since='2021-01-01').items(1000)\n",
        "\n",
        "all_tweets = [tweet.text for tweet in tweets]\n",
        "\n",
        "all_tweets[:5]"
      ],
      "execution_count": 65,
      "outputs": [
        {
          "output_type": "execute_result",
          "data": {
            "text/plain": [
              "[\"When you remove the names, you see 3 brothers! 3 kings! 3 is infinite! Hate is a disease! Love is winning! It's a n… https://t.co/gdbu1SgBnd\",\n",
              " 'Me rather chat to me self the last somebody me wah chat to is them!!!\\n#Skillibeng #Eastsyde #yuhs #GuideMe',\n",
              " '@NICKIMINAJ when I tell you I love crocodile teeth remix with #SkilliBeng 🥰 such a vibe. https://t.co/wP0v6A3GuZ',\n",
              " \".@NICKIMINAJ on the Hot 50 this week (excluding the 5 Top 10's):\\n\\n#11, Chi-Raq (with @gherbo)\\n#12, Crocodile Teeth… https://t.co/vfzh1xrWse\",\n",
              " '@JamaicaObserver Congratulations #Skillibeng']"
            ]
          },
          "metadata": {
            "tags": []
          },
          "execution_count": 65
        }
      ]
    },
    {
      "cell_type": "code",
      "metadata": {
        "id": "s7zsmaH7G3dN"
      },
      "source": [
        "def remove_url(txt):\n",
        "    return \" \".join(re.sub(\"([^0-9A-Za-z \\t])|(\\w+:\\/\\/\\S+)\", \"\", txt).split())"
      ],
      "execution_count": 66,
      "outputs": []
    },
    {
      "cell_type": "code",
      "metadata": {
        "colab": {
          "base_uri": "https://localhost:8080/"
        },
        "id": "zJcr_iTXHBuQ",
        "outputId": "f3a454eb-d71b-4ace-8a51-1f8e5e9ad5a3"
      },
      "source": [
        "\n",
        "all_tweets_no_urls = [remove_url(tweet) for tweet in all_tweets]\n",
        "all_tweets_no_urls[:5]"
      ],
      "execution_count": 67,
      "outputs": [
        {
          "output_type": "execute_result",
          "data": {
            "text/plain": [
              "['When you remove the names you see 3 brothers 3 kings 3 is infinite Hate is a disease Love is winning Its a n',\n",
              " 'Me rather chat to me self the last somebody me wah chat to is themSkillibeng Eastsyde yuhs GuideMe',\n",
              " 'NICKIMINAJ when I tell you I love crocodile teeth remix with SkilliBeng such a vibe',\n",
              " 'NICKIMINAJ on the Hot 50 this week excluding the 5 Top 10s11 ChiRaq with gherbo12 Crocodile Teeth',\n",
              " 'JamaicaObserver Congratulations Skillibeng']"
            ]
          },
          "metadata": {
            "tags": []
          },
          "execution_count": 67
        }
      ]
    },
    {
      "cell_type": "code",
      "metadata": {
        "colab": {
          "base_uri": "https://localhost:8080/"
        },
        "id": "LcYtxWTqHD-o",
        "outputId": "5ce23392-af7d-4d79-e565-28f9a59ac824"
      },
      "source": [
        "# Split the words from one tweet into unique elements\n",
        "all_tweets_no_urls[0].lower().split()"
      ],
      "execution_count": 68,
      "outputs": [
        {
          "output_type": "execute_result",
          "data": {
            "text/plain": [
              "['when',\n",
              " 'you',\n",
              " 'remove',\n",
              " 'the',\n",
              " 'names',\n",
              " 'you',\n",
              " 'see',\n",
              " '3',\n",
              " 'brothers',\n",
              " '3',\n",
              " 'kings',\n",
              " '3',\n",
              " 'is',\n",
              " 'infinite',\n",
              " 'hate',\n",
              " 'is',\n",
              " 'a',\n",
              " 'disease',\n",
              " 'love',\n",
              " 'is',\n",
              " 'winning',\n",
              " 'its',\n",
              " 'a',\n",
              " 'n']"
            ]
          },
          "metadata": {
            "tags": []
          },
          "execution_count": 68
        }
      ]
    },
    {
      "cell_type": "code",
      "metadata": {
        "colab": {
          "base_uri": "https://localhost:8080/"
        },
        "id": "ipiSqeWfHP0S",
        "outputId": "b9cfe16a-6236-41b6-92e3-c3c43cd9a2d4"
      },
      "source": [
        "# Create a list of lists containing lowercase words for each tweet\n",
        "words_in_tweet = [tweet.lower().split() for tweet in all_tweets_no_urls]\n",
        "words_in_tweet[:2]"
      ],
      "execution_count": 69,
      "outputs": [
        {
          "output_type": "execute_result",
          "data": {
            "text/plain": [
              "[['when',\n",
              "  'you',\n",
              "  'remove',\n",
              "  'the',\n",
              "  'names',\n",
              "  'you',\n",
              "  'see',\n",
              "  '3',\n",
              "  'brothers',\n",
              "  '3',\n",
              "  'kings',\n",
              "  '3',\n",
              "  'is',\n",
              "  'infinite',\n",
              "  'hate',\n",
              "  'is',\n",
              "  'a',\n",
              "  'disease',\n",
              "  'love',\n",
              "  'is',\n",
              "  'winning',\n",
              "  'its',\n",
              "  'a',\n",
              "  'n'],\n",
              " ['me',\n",
              "  'rather',\n",
              "  'chat',\n",
              "  'to',\n",
              "  'me',\n",
              "  'self',\n",
              "  'the',\n",
              "  'last',\n",
              "  'somebody',\n",
              "  'me',\n",
              "  'wah',\n",
              "  'chat',\n",
              "  'to',\n",
              "  'is',\n",
              "  'themskillibeng',\n",
              "  'eastsyde',\n",
              "  'yuhs',\n",
              "  'guideme']]"
            ]
          },
          "metadata": {
            "tags": []
          },
          "execution_count": 69
        }
      ]
    },
    {
      "cell_type": "code",
      "metadata": {
        "colab": {
          "base_uri": "https://localhost:8080/"
        },
        "id": "Fhb5p7kuHTwx",
        "outputId": "95566532-4fef-487b-be57-467e6079e79a"
      },
      "source": [
        "# List of all words across tweets\n",
        "all_words_no_urls = list(itertools.chain(*words_in_tweet))\n",
        "\n",
        "# Create counter\n",
        "counts_no_urls = collections.Counter(all_words_no_urls)\n",
        "\n",
        "counts_no_urls.most_common(15)"
      ],
      "execution_count": 70,
      "outputs": [
        {
          "output_type": "execute_result",
          "data": {
            "text/plain": [
              "[('skillibeng', 42),\n",
              " ('on', 13),\n",
              " ('the', 12),\n",
              " ('a', 12),\n",
              " ('me', 10),\n",
              " ('nickiminaj', 9),\n",
              " ('by', 9),\n",
              " ('is', 8),\n",
              " ('to', 7),\n",
              " ('remix', 7),\n",
              " ('this', 7),\n",
              " ('for', 7),\n",
              " ('video', 7),\n",
              " ('you', 6),\n",
              " ('crocodile', 6)]"
            ]
          },
          "metadata": {
            "tags": []
          },
          "execution_count": 70
        }
      ]
    },
    {
      "cell_type": "code",
      "metadata": {
        "colab": {
          "base_uri": "https://localhost:8080/",
          "height": 202
        },
        "id": "8JQNc32zHWWS",
        "outputId": "d2fc5574-bad1-42a4-9b78-7bbedca9af45"
      },
      "source": [
        "clean_tweets_no_urls = pd.DataFrame(counts_no_urls.most_common(15),\n",
        "                             columns=['words', 'count'])\n",
        "\n",
        "clean_tweets_no_urls.head()"
      ],
      "execution_count": 71,
      "outputs": [
        {
          "output_type": "execute_result",
          "data": {
            "text/html": [
              "<div>\n",
              "<style scoped>\n",
              "    .dataframe tbody tr th:only-of-type {\n",
              "        vertical-align: middle;\n",
              "    }\n",
              "\n",
              "    .dataframe tbody tr th {\n",
              "        vertical-align: top;\n",
              "    }\n",
              "\n",
              "    .dataframe thead th {\n",
              "        text-align: right;\n",
              "    }\n",
              "</style>\n",
              "<table border=\"1\" class=\"dataframe\">\n",
              "  <thead>\n",
              "    <tr style=\"text-align: right;\">\n",
              "      <th></th>\n",
              "      <th>words</th>\n",
              "      <th>count</th>\n",
              "    </tr>\n",
              "  </thead>\n",
              "  <tbody>\n",
              "    <tr>\n",
              "      <th>0</th>\n",
              "      <td>skillibeng</td>\n",
              "      <td>42</td>\n",
              "    </tr>\n",
              "    <tr>\n",
              "      <th>1</th>\n",
              "      <td>on</td>\n",
              "      <td>13</td>\n",
              "    </tr>\n",
              "    <tr>\n",
              "      <th>2</th>\n",
              "      <td>the</td>\n",
              "      <td>12</td>\n",
              "    </tr>\n",
              "    <tr>\n",
              "      <th>3</th>\n",
              "      <td>a</td>\n",
              "      <td>12</td>\n",
              "    </tr>\n",
              "    <tr>\n",
              "      <th>4</th>\n",
              "      <td>me</td>\n",
              "      <td>10</td>\n",
              "    </tr>\n",
              "  </tbody>\n",
              "</table>\n",
              "</div>"
            ],
            "text/plain": [
              "        words  count\n",
              "0  skillibeng     42\n",
              "1          on     13\n",
              "2         the     12\n",
              "3           a     12\n",
              "4          me     10"
            ]
          },
          "metadata": {
            "tags": []
          },
          "execution_count": 71
        }
      ]
    },
    {
      "cell_type": "code",
      "metadata": {
        "colab": {
          "base_uri": "https://localhost:8080/",
          "height": 513
        },
        "id": "fIdvjXGMHZPg",
        "outputId": "94ee6ef8-4096-4650-8170-0dbbc94c39a1"
      },
      "source": [
        "fig, ax = plt.subplots(figsize=(8, 8))\n",
        "\n",
        "# Plot horizontal bar graph\n",
        "clean_tweets_no_urls.sort_values(by='count').plot.barh(x='words',\n",
        "                      y='count',\n",
        "                      ax=ax,\n",
        "                      color=\"purple\")\n",
        "\n",
        "ax.set_title(\"Common Words Found in Tweets (Including All Words)\")\n",
        "\n",
        "plt.show()"
      ],
      "execution_count": 72,
      "outputs": [
        {
          "output_type": "display_data",
          "data": {
            "image/png": "[encoded data removed]",
            "text/plain": [
              "<Figure size 576x576 with 1 Axes>"
            ]
          },
          "metadata": {
            "tags": []
          }
        }
      ]
    },
    {
      "cell_type": "markdown",
      "metadata": {
        "id": "kLbIjWYSHmft"
      },
      "source": [
        "Removing Stopwords\n"
      ]
    },
    {
      "cell_type": "code",
      "metadata": {
        "colab": {
          "base_uri": "https://localhost:8080/"
        },
        "id": "7-wtyJ55Hpml",
        "outputId": "3256812c-c43f-4320-a181-d0c3b113e920"
      },
      "source": [
        "nltk.download('stopwords')"
      ],
      "execution_count": 73,
      "outputs": [
        {
          "output_type": "stream",
          "text": [
            "[nltk_data] Downloading package stopwords to /root/nltk_data...\n",
            "[nltk_data]   Package stopwords is already up-to-date!\n"
          ],
          "name": "stdout"
        },
        {
          "output_type": "execute_result",
          "data": {
            "text/plain": [
              "True"
            ]
          },
          "metadata": {
            "tags": []
          },
          "execution_count": 73
        }
      ]
    },
    {
      "cell_type": "code",
      "metadata": {
        "colab": {
          "base_uri": "https://localhost:8080/"
        },
        "id": "4njMf-jGHrD4",
        "outputId": "633c0f99-b739-4fbc-cb4c-a059fd37c9bd"
      },
      "source": [
        "stop_words = set(stopwords.words('english'))\n",
        "\n",
        "# View a few words from the set\n",
        "list(stop_words)[0:10]"
      ],
      "execution_count": 74,
      "outputs": [
        {
          "output_type": "execute_result",
          "data": {
            "text/plain": [
              "[\"you'd\",\n",
              " 'is',\n",
              " \"mustn't\",\n",
              " 'between',\n",
              " 'other',\n",
              " 'here',\n",
              " 'don',\n",
              " 'we',\n",
              " \"haven't\",\n",
              " 'an']"
            ]
          },
          "metadata": {
            "tags": []
          },
          "execution_count": 74
        }
      ]
    },
    {
      "cell_type": "code",
      "metadata": {
        "colab": {
          "base_uri": "https://localhost:8080/"
        },
        "id": "muoBCJSUHtXF",
        "outputId": "1eef2974-81d8-466a-98b2-2b5faa884b66"
      },
      "source": [
        "words_in_tweet[0]"
      ],
      "execution_count": 75,
      "outputs": [
        {
          "output_type": "execute_result",
          "data": {
            "text/plain": [
              "['when',\n",
              " 'you',\n",
              " 'remove',\n",
              " 'the',\n",
              " 'names',\n",
              " 'you',\n",
              " 'see',\n",
              " '3',\n",
              " 'brothers',\n",
              " '3',\n",
              " 'kings',\n",
              " '3',\n",
              " 'is',\n",
              " 'infinite',\n",
              " 'hate',\n",
              " 'is',\n",
              " 'a',\n",
              " 'disease',\n",
              " 'love',\n",
              " 'is',\n",
              " 'winning',\n",
              " 'its',\n",
              " 'a',\n",
              " 'n']"
            ]
          },
          "metadata": {
            "tags": []
          },
          "execution_count": 75
        }
      ]
    },
    {
      "cell_type": "code",
      "metadata": {
        "colab": {
          "base_uri": "https://localhost:8080/"
        },
        "id": "EbBuoEVqHwJG",
        "outputId": "33aa2217-573d-4e6a-b55c-6187e0d89ae5"
      },
      "source": [
        "# Remove stop words from each tweet list of words\n",
        "tweets_nsw = [[word for word in tweet_words if not word in stop_words]\n",
        "              for tweet_words in words_in_tweet]\n",
        "\n",
        "tweets_nsw[0]"
      ],
      "execution_count": 76,
      "outputs": [
        {
          "output_type": "execute_result",
          "data": {
            "text/plain": [
              "['remove',\n",
              " 'names',\n",
              " 'see',\n",
              " '3',\n",
              " 'brothers',\n",
              " '3',\n",
              " 'kings',\n",
              " '3',\n",
              " 'infinite',\n",
              " 'hate',\n",
              " 'disease',\n",
              " 'love',\n",
              " 'winning',\n",
              " 'n']"
            ]
          },
          "metadata": {
            "tags": []
          },
          "execution_count": 76
        }
      ]
    },
    {
      "cell_type": "code",
      "metadata": {
        "colab": {
          "base_uri": "https://localhost:8080/"
        },
        "id": "ovWs3tQpH8f8",
        "outputId": "3ac07dfd-8181-46da-f4a7-5cb6a7563fa6"
      },
      "source": [
        "all_words_nsw = list(itertools.chain(*tweets_nsw))\n",
        "\n",
        "counts_nsw = collections.Counter(all_words_nsw)\n",
        "\n",
        "counts_nsw.most_common(15)\n"
      ],
      "execution_count": 77,
      "outputs": [
        {
          "output_type": "execute_result",
          "data": {
            "text/plain": [
              "[('skillibeng', 42),\n",
              " ('nickiminaj', 9),\n",
              " ('remix', 7),\n",
              " ('video', 7),\n",
              " ('crocodile', 6),\n",
              " ('x', 6),\n",
              " ('guide', 6),\n",
              " ('music', 6),\n",
              " ('teeth', 5),\n",
              " ('bad', 5),\n",
              " ('official', 5),\n",
              " ('crocodileteethremix', 5),\n",
              " ('bitch', 4),\n",
              " ('new', 4),\n",
              " ('crocodileteeth', 4)]"
            ]
          },
          "metadata": {
            "tags": []
          },
          "execution_count": 77
        }
      ]
    },
    {
      "cell_type": "code",
      "metadata": {
        "colab": {
          "base_uri": "https://localhost:8080/",
          "height": 513
        },
        "id": "w60BZx4EH_DP",
        "outputId": "24f884e1-64fe-4bd7-acb2-e3d046939d71"
      },
      "source": [
        "clean_tweets_nsw = pd.DataFrame(counts_nsw.most_common(15),\n",
        "                             columns=['words', 'count'])\n",
        "\n",
        "fig, ax = plt.subplots(figsize=(8, 8))\n",
        "\n",
        "# Plot horizontal bar graph\n",
        "clean_tweets_nsw.sort_values(by='count').plot.barh(x='words',\n",
        "                      y='count',\n",
        "                      ax=ax,\n",
        "                      color=\"purple\")\n",
        "\n",
        "ax.set_title(\"Common Words Found in Tweets (Without Stop Words)\")\n",
        "\n",
        "plt.show()"
      ],
      "execution_count": 78,
      "outputs": [
        {
          "output_type": "display_data",
          "data": {
            "image/png": "[encoded data removed]",
            "text/plain": [
              "<Figure size 576x576 with 1 Axes>"
            ]
          },
          "metadata": {
            "tags": []
          }
        }
      ]
    },
    {
      "cell_type": "code",
      "metadata": {
        "id": "U_7YUPKkIB8f"
      },
      "source": [
        ""
      ],
      "execution_count": 78,
      "outputs": []
    },
    {
      "cell_type": "markdown",
      "metadata": {
        "id": "LoqfvftUIFMs"
      },
      "source": [
        "Removing Collection Words"
      ]
    },
    {
      "cell_type": "code",
      "metadata": {
        "id": "fo5-pRIOIHkA"
      },
      "source": [
        ""
      ],
      "execution_count": 78,
      "outputs": []
    }
  ]
}